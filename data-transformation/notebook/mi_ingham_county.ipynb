{
 "cells": [
  {
   "cell_type": "code",
   "execution_count": 423,
   "id": "regulation-classic",
   "metadata": {
    "scrolled": true
   },
   "outputs": [
    {
     "data": {
      "text/html": [
       "<style>.container { width:100% !important; }</style>"
      ],
      "text/plain": [
       "<IPython.core.display.HTML object>"
      ]
     },
     "metadata": {},
     "output_type": "display_data"
    }
   ],
   "source": [
    "from IPython.core.display import display, HTML\n",
    "display(HTML(\"<style>.container { width:100% !important; }</style>\"))\n",
    "\n",
    "import numpy as np\n",
    "import pycountry\n",
    "import pandas as pd\n",
    "import os\n",
    "import random\n",
    "\n",
    "df = pd.read_csv(\"../../../data/unprocessed/mi/esbdata-2020-11-03-Michigan-Ingham_County.csv\")\n",
    "pd.set_option('display.max_columns', None)\n",
    "pd.set_option('display.max_rows', None)"
   ]
  },
  {
   "cell_type": "markdown",
   "id": "macro-gauge",
   "metadata": {},
   "source": [
    "## Data Structure"
   ]
  },
  {
   "cell_type": "markdown",
   "id": "elect-madagascar",
   "metadata": {},
   "source": [
    "### Column Order\n",
    "\n",
    "The order for column names described in the [EAVS Section B Data Standard](https://eavs-section-b-data-standard.readthedocs.io/en/latest/index.html) is Id, VoterId, RequestMethod, RequestOtherMethod, RequestDate, RequestStatusType, RequestStatusReasonType, RequestReasonOtherType, RequestType, BallotRejectionType, BallotRejectionOtherType, BallotReceivedDate, BallotReceivedMethod, BallotReceivedOtherMethod, BallotTransmissionDate, BallotTransmissionMethod, BallotTransmissionOtherMethod, BallotType, ElectionDate, ElectionName, JurisdictionId, JurisdictionIdType, JurisdictionName, StateName, VoterMailingCountry, and VoterType.\n",
    "\n",
    "Columns in the provided dataset were changed to reflect this requirement. \n",
    "\n",
    "### Required Columns\n",
    "\n",
    "Several columns (RequestOtherMethod, RequestReasonOtherType, BallotRejectionOtherType, BallotReceivedOtherMethod, and BallotTransmissionOtherMethod) were missing from the provided data and were added with empty values.\n",
    "\n",
    "### Extra Columns\n",
    "\n",
    "The columns labelled ADDRESS1, ADDRESS3, ADDRESS4, and ADDRESS5 are not included in the standard and so were removed. However, the data in these columns was parsed and transformed to be included in the VoterMailingCountry column."
   ]
  },
  {
   "cell_type": "code",
   "execution_count": 424,
   "id": "broadband-shanghai",
   "metadata": {},
   "outputs": [],
   "source": [
    "standard_columns = [\"Id\",\"VoterId\",\"RequestMethod\",\"RequestOtherMethod\",\"RequestDate\",\"RequestStatusType\",\"RequestStatusReasonType\",\n",
    "                    \"RequestReasonOtherType\",\"RequestType\",\"BallotRejectionType\",\"BallotRejectionOtherType\",\"BallotReceivedDate\",\n",
    "                    \"BallotReceivedMethod\",\"BallotReceivedOtherMethod\",\"BallotTransmissionDate\",\"BallotTransmissionMethod\",\n",
    "                    \"BallotTransmissionOtherMethod\",\"BallotType\",\"ElectionDate\",\"ElectionName\",\"JurisdictionId\",\"JurisdictionIdType\",\n",
    "                    \"JurisdictionName\",\"StateName\",\"VoterMailingCountry\",\"VoterType\"]\n",
    "\n",
    "mi_columns = [\"ElectionDate\",\"ElectionName\",\"JurisdictionId\",\"JurisdictionIdType\",\"JurisdictionName\",\"StateName\",\"VoterId\",\"ADDRESS1\",\n",
    "              \"ADDRESS3\",\"ADDRESS4\",\"ADDRESS5\",\"VoterMailingCountry\",\"VoterType\",\"RequestMethod\",\"RequestDate\",\"RequestStatusType\",\n",
    "              \"RequestStatusReasonType\",\"Id\",\"BallotTransmissionDate\",\"RequestType\",\"BallotType\",\"BallotReceivedDate\",\n",
    "              \"BallotReceivedMethod\",\"BallotTransmissionMethod\",\"BallotRejectionType\"]\n",
    "\n",
    "missing_columns = [column for column in standard_columns if column not in mi_columns] \n",
    "# ['RequestOtherMethod','RequestReasonOtherType',BallotRejectionOtherType',\n",
    "#  'BallotReceivedOtherMethod','BallotTransmissionOtherMethod']\n",
    "\n",
    "extra_columns = [column for column in mi_columns if column not in standard_columns]   \n",
    "# ['ADDRESS1', 'ADDRESS3', 'ADDRESS4', 'ADDRESS5']\n",
    "\n",
    "\n",
    "# Creating copy of ADDRESS columns to parse after dropping #\n",
    "\n",
    "address_fields = df['ADDRESS1'].map(str) + df['ADDRESS3'].map(str) + df['ADDRESS4'].map(str) + df['ADDRESS5'].map(str)\n",
    "\n",
    "\n",
    "# Add missing columns, drop nonstandard columns, and reorder #\n",
    "\n",
    "for column in missing_columns:\n",
    "    df[column] = ''\n",
    "\n",
    "df.drop(columns=extra_columns, inplace=True)    \n",
    "\n",
    "df = df[standard_columns]"
   ]
  },
  {
   "cell_type": "markdown",
   "id": "regular-backup",
   "metadata": {},
   "source": [
    "## Column Values"
   ]
  },
  {
   "cell_type": "markdown",
   "id": "systematic-husband",
   "metadata": {},
   "source": [
    "### Blank Rows\n",
    "\n",
    "Row 1015 does not appear to contain meaningful data and so was removed. Please advise if there is a reason to include it. If so, values will need to be provided for the RequestMethod, RequestStatusType, RequestType, and ElectionDate columns at minimum as these columns are required to contain some data by the standard, even if the values are all \"untracked.\""
   ]
  },
  {
   "cell_type": "code",
   "execution_count": 425,
   "id": "organic-indonesia",
   "metadata": {},
   "outputs": [],
   "source": [
    "df.drop(df.index[1014], inplace=True)"
   ]
  },
  {
   "cell_type": "markdown",
   "id": "central-standard",
   "metadata": {},
   "source": [
    "### Id\n",
    "\n",
    "Values in the Id column in the provided data included a trailing decimal and zero. This looks suspiciously like the work of Excel trying to be \"helpful.\" These values were converted to strings and sliced to exclude these characters.\n",
    "\n",
    "Multiple values are recorded as \"n\". This column requires unique values in every row. \"n\" values were replaced with random numerical strings as the standard accepts any unique values (for simplicity, this could even be a sequential list starting at 1)."
   ]
  },
  {
   "cell_type": "code",
   "execution_count": 426,
   "id": "martial-leader",
   "metadata": {},
   "outputs": [],
   "source": [
    "df[\"Id\"] = df[\"Id\"].astype(\"str\").str.slice(0,-2,1)"
   ]
  },
  {
   "cell_type": "code",
   "execution_count": 427,
   "id": "criminal-affect",
   "metadata": {},
   "outputs": [],
   "source": [
    "n_indeces = [787,925,995,1008,1009]\n",
    "\n",
    "for index in n_indeces:\n",
    "    df.loc[index, \"Id\"] = str(random.randint(10000000, 99999999))"
   ]
  },
  {
   "cell_type": "markdown",
   "id": "textile-preference",
   "metadata": {},
   "source": [
    "### VoterId\n",
    "\n",
    "As above, values in this column included a trailing decimal and zero. These values were converted to strings and sliced to exclude these characters."
   ]
  },
  {
   "cell_type": "code",
   "execution_count": 428,
   "id": "younger-literature",
   "metadata": {},
   "outputs": [],
   "source": [
    "df[\"VoterId\"] = df[\"VoterId\"].astype(\"str\").str.slice(0,-2,1)"
   ]
  },
  {
   "cell_type": "markdown",
   "id": "tropical-living",
   "metadata": {},
   "source": [
    "### RequestStatusReasonType\n",
    "\n",
    "Values in this column should be recorded as arrays. Even in the case of single string values, they should be represented by arrays containing a single element (e.g., \"[\"untracked\"]\" vs. \"untracked\"). Values were adjusted to reflect this requirement."
   ]
  },
  {
   "cell_type": "code",
   "execution_count": 429,
   "id": "inappropriate-chicken",
   "metadata": {},
   "outputs": [],
   "source": [
    "array_values = {\n",
    "    'untracked': '[\"untracked\"]'\n",
    "}\n",
    "\n",
    "df['RequestStatusReasonType'].replace(array_values, inplace=True)"
   ]
  },
  {
   "cell_type": "markdown",
   "id": "roman-ticket",
   "metadata": {},
   "source": [
    "### BallotRejectionType\n",
    "\n",
    "Values in this column must be arrays. If only one value is included, it must still appear as a single-value array (e.g., \"[\"not_timely\"]\" vs not_timely). Values were transformed to conform to standard."
   ]
  },
  {
   "cell_type": "code",
   "execution_count": 430,
   "id": "seasonal-moses",
   "metadata": {},
   "outputs": [],
   "source": [
    "array_values ={\n",
    "    'not-timely': '[\"not-timely\"]',\n",
    "    'voter-moved': '[\"voter-moved\"]',\n",
    "    'missing-voter-signature': '[\"missing-voter-signature\"]'\n",
    "}\n",
    "\n",
    "df['BallotRejectionType'].replace(array_values, inplace=True)"
   ]
  },
  {
   "cell_type": "markdown",
   "id": "otherwise-hands",
   "metadata": {},
   "source": [
    "### ElectionName\n",
    "\n",
    "The value provided (\"2020-Presidential-Election\") is valid but was changed to \"2020 General Election\" for consistency with other datasets."
   ]
  },
  {
   "cell_type": "code",
   "execution_count": 431,
   "id": "synthetic-nature",
   "metadata": {},
   "outputs": [],
   "source": [
    "df[\"ElectionName\"] = \"2020 General Election\""
   ]
  },
  {
   "cell_type": "markdown",
   "id": "finished-hospital",
   "metadata": {},
   "source": [
    "### VoterMailingCountry\n",
    "\n",
    "This column was empty in the dataset provided but values were synthesized from the provided ADDRESS1, ADDRESS3, ADDRESS4, and ADDRESS5 columns."
   ]
  },
  {
   "cell_type": "code",
   "execution_count": 432,
   "id": "organizational-brass",
   "metadata": {},
   "outputs": [],
   "source": [
    "df[\"VoterMailingCountry\"] = address_fields\n",
    "\n",
    "country_names = [country.name for country in pycountry.countries]\n",
    "mi_country_names = {country: '' for country in df[\"VoterMailingCountry\"]}\n",
    "\n",
    "\n",
    "# Foreign Addresses #\n",
    "\n",
    "for mi_country in mi_country_names:\n",
    "    for country in country_names:\n",
    "        if country.lower() in mi_country.lower():\n",
    "            mi_country_names[mi_country] = country\n",
    "            \n",
    "            \n",
    "# Military addresses #\n",
    "\n",
    "# In this dataset, military addresses always include DPO, FPO, or APO so AA, AE, and AP \n",
    "# should not be incorrectly matched with longer country names\n",
    "\n",
    "military_pos = [\"APO\", \"DPO\", \"FPO\"]\n",
    "\n",
    "for mi_country in mi_country_names:\n",
    "    for mil_po in military_pos:\n",
    "        if mil_po in mi_country and \"AA\" in mi_country:\n",
    "            mi_country_names[mi_country] = \"Armed Forces America\"\n",
    "        elif mil_po in mi_country and \"AE\" in mi_country:\n",
    "            mi_country_names[mi_country] = \"Armed Forces Europe, the Middle East, Africa, and Canada\"\n",
    "        elif mil_po in mi_country and \"AP\" in mi_country:\n",
    "            mi_country_names[mi_country] = \"Armed Forces Pacific\"\n",
    "            \n",
    "            \n",
    "# US addresses # \n",
    "\n",
    "us_states = [\"AL\", \"AK\", \"AZ\", \"AR\", \"CA\", \"CO\", \"CT\", \"DC\", \"DE\", \"FL\", \"GA\", \n",
    "          \"HI\", \"ID\", \"IL\", \"IN\", \"IA\", \"KS\", \"KY\", \"LA\", \"ME\", \"MD\", \n",
    "          \"MA\", \"MI\", \"MN\", \"MS\", \"MO\", \"MT\", \"NE\", \"NV\", \"NH\", \"NJ\", \n",
    "          \"NM\", \"NY\", \"NC\", \"ND\", \"OH\", \"OK\", \"OR\", \"PA\", \"RI\", \"SC\", \n",
    "          \"SD\", \"TN\", \"TX\", \"UT\", \"VT\", \"VA\", \"WA\", \"WV\", \"WI\", \"WY\"]\n",
    "\n",
    "# Avoiding mismatches when a state abbreviation is included in a \n",
    "# longer string containing a correctly named country.\n",
    "\n",
    "country_names_lower = [country_name.lower() for country_name in country_names]\n",
    "\n",
    "for mi_country in mi_country_names:\n",
    "    for state in us_states:\n",
    "        if f\" {state} \" in mi_country and mi_country.lower() not in country_names_lower:\n",
    "            mi_country_names[mi_country] = 'United States'\n",
    "            \n",
    "\n",
    "# Account for typos, variations, and foreign spellings where possible #\n",
    "\n",
    "corrected_country_names = {\n",
    "    ' UK ': 'United Kingdom',\n",
    "    'ENGLAND': 'United Kingdom',\n",
    "    'GREAT BRITAIN': 'United Kingdom',\n",
    "    'SCOTLAND': 'United Kingdom',\n",
    "    'ITALIA': 'Italy',\n",
    "    'TAIWAN': 'Taiwan, Province of China',\n",
    "    'SOUTH KOREA': 'Korea, Republic of',\n",
    "    'KOREA': 'Korea, Republic of',\n",
    "    'ESPA�A': 'Spain'\n",
    "}\n",
    "\n",
    "for mi_country in mi_country_names:\n",
    "    for corrected_country in corrected_country_names:\n",
    "        if mi_country in corrected_country_names:\n",
    "            mi_country_names[mi_country] = corrected_country\n",
    "            \n",
    "            \n",
    "# Replace values #\n",
    "\n",
    "df['VoterMailingCountry'].replace(mi_country_names, inplace=True)"
   ]
  },
  {
   "cell_type": "markdown",
   "id": "first-equivalent",
   "metadata": {},
   "source": [
    "### VoterType\n",
    "\n",
    "\"overseas-civilian\" was changed to \"overseas-citizen\" to conform to the valid values of this column per the standard."
   ]
  },
  {
   "cell_type": "code",
   "execution_count": 433,
   "id": "greater-police",
   "metadata": {},
   "outputs": [],
   "source": [
    "voter_type = {\n",
    "    'overseas-civilian': 'overseas-citizen'\n",
    "}\n",
    "\n",
    "df['VoterType'].replace(voter_type, inplace=True)"
   ]
  },
  {
   "cell_type": "code",
   "execution_count": 434,
   "id": "incomplete-chance",
   "metadata": {},
   "outputs": [],
   "source": [
    "df.to_csv(os.path.abspath(\n",
    "    '../../../data/processed/mi/esbdata-2020-11-03-Michigan-Ingham_County.csv'), index=False)"
   ]
  }
 ],
 "metadata": {
  "kernelspec": {
   "display_name": "Python 3",
   "language": "python",
   "name": "python3"
  },
  "language_info": {
   "codemirror_mode": {
    "name": "ipython",
    "version": 3
   },
   "file_extension": ".py",
   "mimetype": "text/x-python",
   "name": "python",
   "nbconvert_exporter": "python",
   "pygments_lexer": "ipython3",
   "version": "3.9.1"
  }
 },
 "nbformat": 4,
 "nbformat_minor": 5
}